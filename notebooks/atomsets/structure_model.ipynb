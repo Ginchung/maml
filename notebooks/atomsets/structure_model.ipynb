{
 "cells": [
  {
   "cell_type": "code",
   "execution_count": 10,
   "id": "ddb6185e",
   "metadata": {},
   "outputs": [],
   "source": [
    "from mdml.db import MamlDB\n",
    "import pandas as pd\n",
    "from pymatgen.core import Structure\n",
    "import json\n",
    "\n",
    "from maml.models import AtomSets"
   ]
  },
  {
   "cell_type": "markdown",
   "id": "26b4a1bd",
   "metadata": {},
   "source": [
    "## Use MEGNet v1 for Ef regression"
   ]
  },
  {
   "cell_type": "code",
   "execution_count": 3,
   "id": "f5d06276",
   "metadata": {},
   "outputs": [],
   "source": [
    "with open(\"mp_ef_100.json\", \"r\") as f:\n",
    "    data = json.load(f)\n",
    "    \n",
    "structs = [Structure.from_dict(i) for i in data['structure']]\n",
    "ef = data['Ef']"
   ]
  },
  {
   "cell_type": "code",
   "execution_count": 4,
   "id": "154f4521",
   "metadata": {},
   "outputs": [],
   "source": [
    "from maml.describers import MEGNetSite"
   ]
  },
  {
   "cell_type": "code",
   "execution_count": 7,
   "id": "ce9dfef1",
   "metadata": {},
   "outputs": [],
   "source": [
    "describer = MEGNetSite(level=1)"
   ]
  },
  {
   "cell_type": "code",
   "execution_count": 9,
   "id": "d247462e",
   "metadata": {},
   "outputs": [],
   "source": [
    "features = describer.transform(structs[:80])"
   ]
  },
  {
   "cell_type": "code",
   "execution_count": 13,
   "id": "5bfa34e7",
   "metadata": {},
   "outputs": [],
   "source": [
    "model = AtomSets(describer=describer,\n",
    "                 input_dim=32,  # the site features have dimenions of 32\n",
    "                 is_embedding=False,\n",
    "                 compile_metrics=['mae'],\n",
    "                 loss='mse',\n",
    "                 is_classification=False\n",
    "                )"
   ]
  },
  {
   "cell_type": "code",
   "execution_count": 31,
   "id": "cf6b3c1f",
   "metadata": {},
   "outputs": [
    {
     "name": "stdout",
     "output_type": "stream",
     "text": [
      "Epoch 1/10\n",
      "3/3 [==============================] - 0s 1ms/step - loss: 0.0788 - mae: 0.2341\n",
      "Epoch 2/10\n",
      "3/3 [==============================] - 0s 1ms/step - loss: 0.0712 - mae: 0.2179\n",
      "Epoch 3/10\n",
      "3/3 [==============================] - 0s 2ms/step - loss: 0.0482 - mae: 0.1721\n",
      "Epoch 4/10\n",
      "3/3 [==============================] - 0s 2ms/step - loss: 0.0499 - mae: 0.1755\n",
      "Epoch 5/10\n",
      "3/3 [==============================] - 0s 2ms/step - loss: 0.0415 - mae: 0.1607\n",
      "Epoch 6/10\n",
      "3/3 [==============================] - 0s 2ms/step - loss: 0.0294 - mae: 0.1420\n",
      "Epoch 7/10\n",
      "3/3 [==============================] - 0s 5ms/step - loss: 0.0341 - mae: 0.1473\n",
      "Epoch 8/10\n",
      "3/3 [==============================] - 0s 2ms/step - loss: 0.0263 - mae: 0.1321\n",
      "Epoch 9/10\n",
      "3/3 [==============================] - 0s 3ms/step - loss: 0.0208 - mae: 0.1161\n",
      "Epoch 10/10\n",
      "3/3 [==============================] - 0s 2ms/step - loss: 0.0206 - mae: 0.1126\n"
     ]
    },
    {
     "data": {
      "text/plain": [
       "<maml.models.dl._mlp.MLP at 0x7fdae3351f40>"
      ]
     },
     "execution_count": 31,
     "metadata": {},
     "output_type": "execute_result"
    }
   ],
   "source": [
    "model.fit(features, ef[:80], epochs=10)"
   ]
  },
  {
   "cell_type": "code",
   "execution_count": 32,
   "id": "f8051562",
   "metadata": {},
   "outputs": [
    {
     "name": "stdout",
     "output_type": "stream",
     "text": [
      "1/1 [==============================] - 0s 16ms/step - loss: 0.1273 - mae: 0.2563\n"
     ]
    }
   ],
   "source": [
    "test_features = describer.transform(structs[80:])\n",
    "loss, metric = model.evaluate(test_features, ef[80:], True)"
   ]
  },
  {
   "cell_type": "code",
   "execution_count": 18,
   "id": "fbaf6a30",
   "metadata": {},
   "outputs": [
    {
     "name": "stdout",
     "output_type": "stream",
     "text": [
      "The MAE is 0.882 eV/atom\n"
     ]
    }
   ],
   "source": [
    "print(f\"The MAE is {metric:.3f} eV/atom\")"
   ]
  },
  {
   "cell_type": "markdown",
   "id": "4f4b4ffc",
   "metadata": {},
   "source": [
    "Similar models can be constructed using V2 and V3 by changing `level` in the `MEGNetSite` describer."
   ]
  },
  {
   "cell_type": "markdown",
   "id": "06d3ba11",
   "metadata": {},
   "source": [
    "## Use structural vector and MLP for regression"
   ]
  },
  {
   "cell_type": "code",
   "execution_count": 21,
   "id": "04149300",
   "metadata": {},
   "outputs": [],
   "source": [
    "from maml.describers import MEGNetStructure\n",
    "from maml.models import MLP"
   ]
  },
  {
   "cell_type": "code",
   "execution_count": 26,
   "id": "7a23d344",
   "metadata": {},
   "outputs": [],
   "source": [
    "describer = MEGNetStructure(mode='final', feature_batch='pandas_concat')\n",
    "model = MLP(describer=describer,\n",
    "           input_dim=96,\n",
    "           compile_metrics=['mae'],\n",
    "           loss='mse',\n",
    "           is_classification=False)"
   ]
  },
  {
   "cell_type": "code",
   "execution_count": 27,
   "id": "b025c82b",
   "metadata": {},
   "outputs": [],
   "source": [
    "features = describer.transform(structs[:80])"
   ]
  },
  {
   "cell_type": "code",
   "execution_count": 28,
   "id": "e784e74d",
   "metadata": {},
   "outputs": [
    {
     "name": "stdout",
     "output_type": "stream",
     "text": [
      "Epoch 1/10\n",
      "3/3 [==============================] - 0s 1ms/step - loss: 2.5584 - mae: 1.3216\n",
      "Epoch 2/10\n",
      "3/3 [==============================] - 0s 1ms/step - loss: 1.0640 - mae: 0.8274\n",
      "Epoch 3/10\n",
      "3/3 [==============================] - 0s 1ms/step - loss: 0.8410 - mae: 0.7687\n",
      "Epoch 4/10\n",
      "3/3 [==============================] - 0s 1ms/step - loss: 0.3368 - mae: 0.4620\n",
      "Epoch 5/10\n",
      "3/3 [==============================] - 0s 1ms/step - loss: 0.4552 - mae: 0.5853\n",
      "Epoch 6/10\n",
      "3/3 [==============================] - 0s 1ms/step - loss: 0.3155 - mae: 0.4806\n",
      "Epoch 7/10\n",
      "3/3 [==============================] - 0s 1ms/step - loss: 0.1186 - mae: 0.2746\n",
      "Epoch 8/10\n",
      "3/3 [==============================] - 0s 2ms/step - loss: 0.1795 - mae: 0.3274\n",
      "Epoch 9/10\n",
      "3/3 [==============================] - 0s 1ms/step - loss: 0.1663 - mae: 0.3117\n",
      "Epoch 10/10\n",
      "3/3 [==============================] - 0s 1ms/step - loss: 0.0845 - mae: 0.2411\n"
     ]
    },
    {
     "data": {
      "text/plain": [
       "<maml.models.dl._mlp.MLP at 0x7fdae3351f40>"
      ]
     },
     "execution_count": 28,
     "metadata": {},
     "output_type": "execute_result"
    }
   ],
   "source": [
    "model.fit(features, ef[:80], epochs=10)"
   ]
  },
  {
   "cell_type": "code",
   "execution_count": 29,
   "id": "53756dfa",
   "metadata": {},
   "outputs": [
    {
     "name": "stdout",
     "output_type": "stream",
     "text": [
      "1/1 [==============================] - 0s 70ms/step - loss: 0.1682 - mae: 0.3181\n"
     ]
    }
   ],
   "source": [
    "test_features = describer.transform(structs[80:])\n",
    "loss, metric = model.evaluate(test_features, ef[80:], True)"
   ]
  },
  {
   "cell_type": "code",
   "execution_count": 30,
   "id": "4d9c8249",
   "metadata": {},
   "outputs": [
    {
     "name": "stdout",
     "output_type": "stream",
     "text": [
      "The MAE is 0.318 eV/atom\n"
     ]
    }
   ],
   "source": [
    "print(f\"The MAE is {metric:.3f} eV/atom\")"
   ]
  }
 ],
 "metadata": {
  "kernelspec": {
   "display_name": "Python 3 (ipykernel)",
   "language": "python",
   "name": "python3"
  },
  "language_info": {
   "codemirror_mode": {
    "name": "ipython",
    "version": 3
   },
   "file_extension": ".py",
   "mimetype": "text/x-python",
   "name": "python",
   "nbconvert_exporter": "python",
   "pygments_lexer": "ipython3",
   "version": "3.9.5"
  }
 },
 "nbformat": 4,
 "nbformat_minor": 5
}
