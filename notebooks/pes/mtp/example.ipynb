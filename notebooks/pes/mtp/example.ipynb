{
 "cells": [
  {
   "cell_type": "markdown",
   "metadata": {},
   "source": [
    "# Load Ni-Mo data"
   ]
  },
  {
   "cell_type": "code",
   "execution_count": 1,
   "metadata": {},
   "outputs": [],
   "source": [
    "from pymatgen.core import Structure\n",
    "from monty.serialization import loadfn\n",
    "\n",
    "data = loadfn('data.json')\n",
    "train_structures = [d['structure'] for d in data]\n",
    "train_energies = [d['outputs']['energy'] for d in data]\n",
    "train_forces = [d['outputs']['forces'] for d in data]\n",
    "train_stresses = [d['outputs']['stress'] for d in data]"
   ]
  },
  {
   "cell_type": "markdown",
   "metadata": {},
   "source": [
    "# Set up the MTP and train"
   ]
  },
  {
   "cell_type": "code",
   "execution_count": 2,
   "metadata": {},
   "outputs": [],
   "source": [
    "from maml.apps.pes import MTPotential\n",
    "\n",
    "mtp = MTPotential()"
   ]
  },
  {
   "cell_type": "code",
   "execution_count": 3,
   "metadata": {},
   "outputs": [
    {
     "name": "stderr",
     "output_type": "stream",
     "text": [
      "INFO:maml.utils._lammps:Structure index 0 is rotated.\n",
      "INFO:maml.utils._lammps:Structure index 1 is rotated.\n",
      "INFO:maml.utils._lammps:Structure index 2 is rotated.\n",
      "INFO:maml.utils._lammps:Structure index 3 is rotated.\n",
      "INFO:maml.utils._lammps:Structure index 4 is rotated.\n",
      "INFO:maml.utils._lammps:Structure index 5 is rotated.\n",
      "INFO:maml.utils._lammps:Structure index 6 is rotated.\n",
      "INFO:maml.utils._lammps:Structure index 7 is rotated.\n",
      "INFO:maml.utils._lammps:Structure index 8 is rotated.\n",
      "INFO:maml.utils._lammps:Structure index 9 is rotated.\n"
     ]
    },
    {
     "data": {
      "text/plain": [
       "0"
      ]
     },
     "execution_count": 3,
     "metadata": {},
     "output_type": "execute_result"
    }
   ],
   "source": [
    "mtp.train(train_structures=train_structures, train_energies=train_energies,\n",
    "          train_forces=train_forces, train_stresses = None, max_dist=5, stress_weight=0)"
   ]
  },
  {
   "cell_type": "markdown",
   "metadata": {},
   "source": [
    "# Predict and evaluate the energies and forces of training data"
   ]
  },
  {
   "cell_type": "code",
   "execution_count": 3,
   "metadata": {},
   "outputs": [
    {
     "name": "stderr",
     "output_type": "stream",
     "text": [
      "INFO:maml.utils._lammps:Structure index 0 is rotated.\n",
      "INFO:maml.utils._lammps:Structure index 1 is rotated.\n",
      "INFO:maml.utils._lammps:Structure index 2 is rotated.\n",
      "INFO:maml.utils._lammps:Structure index 3 is rotated.\n",
      "INFO:maml.utils._lammps:Structure index 4 is rotated.\n",
      "INFO:maml.utils._lammps:Structure index 5 is rotated.\n",
      "INFO:maml.utils._lammps:Structure index 6 is rotated.\n",
      "INFO:maml.utils._lammps:Structure index 7 is rotated.\n",
      "INFO:maml.utils._lammps:Structure index 8 is rotated.\n",
      "INFO:maml.utils._lammps:Structure index 9 is rotated.\n"
     ]
    }
   ],
   "source": [
    "df_orig, df_predict = mtp.evaluate(test_structures=train_structures, \n",
    "                                   test_energies=train_energies,\n",
    "                                   test_forces=train_forces, test_stresses=train_stresses)"
   ]
  },
  {
   "cell_type": "code",
   "execution_count": 4,
   "metadata": {},
   "outputs": [
    {
     "name": "stdout",
     "output_type": "stream",
     "text": [
      "MAE of training energy prediction is 3.0247720612186946 meV/atom\n",
      "MAE of training force prediction is 0.13388747939814816 eV/Å\n"
     ]
    }
   ],
   "source": [
    "from sklearn.metrics import mean_absolute_error\n",
    "import numpy as np\n",
    "\n",
    "E_p = np.array(df_predict[df_predict['dtype'] == 'energy']['y_orig'])/df_predict[df_predict['dtype'] == 'energy']['n']\n",
    "E_o = np.array(df_orig[df_orig['dtype'] == 'energy']['y_orig'])/df_orig[df_orig['dtype'] == 'energy']['n']\n",
    "print(\"MAE of training energy prediction is {} meV/atom\".format(mean_absolute_error(E_o,E_p)*1000))\n",
    "\n",
    "F_p = np.array(df_predict[df_predict['dtype'] == 'force']['y_orig'])/df_predict[df_predict['dtype'] == 'force']['n']\n",
    "F_o = np.array(df_orig[df_orig['dtype'] == 'force']['y_orig'])/df_orig[df_orig['dtype'] == 'force']['n']\n",
    "print(\"MAE of training force prediction is {} eV/Å\".format(mean_absolute_error(F_o,F_p)))"
   ]
  },
  {
   "cell_type": "markdown",
   "metadata": {},
   "source": [
    "# Write and load fitted mtp with parameters files"
   ]
  },
  {
   "cell_type": "code",
   "execution_count": null,
   "metadata": {},
   "outputs": [],
   "source": [
    "mtp_write = mtp.write_param()"
   ]
  },
  {
   "cell_type": "code",
   "execution_count": 11,
   "metadata": {},
   "outputs": [],
   "source": [
    "mtp_loaded = MTPotential.from_config(filename='fitted.mtp', elements=[\"Ni\", \"Mo\"])"
   ]
  },
  {
   "cell_type": "markdown",
   "metadata": {},
   "source": [
    "# Lattice constants and eslastic constants\n",
    "### Large error due to limited training data -- 10 structures"
   ]
  },
  {
   "cell_type": "code",
   "execution_count": 18,
   "metadata": {},
   "outputs": [],
   "source": [
    "from pymatgen.core import Lattice\n",
    "\n",
    "Ni = Structure.from_spacegroup(sg='Fm-3m', species=['Ni'], lattice=Lattice.cubic(3.51), coords=[[0, 0, 0]])\n",
    "Mo = Structure.from_spacegroup(sg='Im-3m', species=['Mo'], lattice=Lattice.cubic(3.17), coords=[[0, 0, 0]])"
   ]
  },
  {
   "cell_type": "code",
   "execution_count": 19,
   "metadata": {},
   "outputs": [
    {
     "name": "stderr",
     "output_type": "stream",
     "text": [
      "INFO:maml.apps.pes._lammps:Setting Lammps executable to lmp_g++_serial\n",
      "INFO:maml.apps.pes._lammps:Setting Lammps executable to lmp_g++_serial\n"
     ]
    },
    {
     "name": "stdout",
     "output_type": "stream",
     "text": [
      "Ni Lattice a: 4.24128207268093, Lattice b: 4.24128207268093, Lattice c: 4.24128207268093\n",
      "Mo Lattice a: 3.74106964347794, Lattice b: 3.74106964347794, Lattice c: 3.74106964347794\n"
     ]
    }
   ],
   "source": [
    "from maml.apps.pes import LatticeConstant\n",
    "\n",
    "lc_calculator = LatticeConstant(ff_settings=mtp_loaded)\n",
    "a, b, c = lc_calculator.calculate([Ni])[0]\n",
    "print('Ni', 'Lattice a: {}, Lattice b: {}, Lattice c: {}'.format(a, b, c))\n",
    "\n",
    "lc_calculator = LatticeConstant(ff_settings=mtp_loaded)\n",
    "a, b, c = lc_calculator.calculate([Mo])[0]\n",
    "print('Mo', 'Lattice a: {}, Lattice b: {}, Lattice c: {}'.format(a, b, c))"
   ]
  },
  {
   "cell_type": "code",
   "execution_count": 20,
   "metadata": {},
   "outputs": [
    {
     "name": "stderr",
     "output_type": "stream",
     "text": [
      "INFO:maml.apps.pes._lammps:Setting Lammps executable to lmp_g++_serial\n",
      "INFO:maml.apps.pes._lammps:Setting Lammps executable to lmp_g++_serial\n"
     ]
    },
    {
     "name": "stdout",
     "output_type": "stream",
     "text": [
      "Ni  C11:  543.18248948548 C12:  506.8766660057 C44:  63.1820936905847\n",
      "Mo  C11:  687.416829999536 C12:  848.638068500906 C44:  -117.680068651214\n"
     ]
    }
   ],
   "source": [
    "from maml.apps.pes import ElasticConstant\n",
    "\n",
    "Ni_ec_calculator = ElasticConstant(ff_settings=mtp_loaded)\n",
    "Ni_C11, Ni_C12, Ni_C44, _ = Ni_ec_calculator.calculate([Ni])[0]\n",
    "print('Ni', ' C11: ', Ni_C11, 'C12: ', Ni_C12, 'C44: ', Ni_C44)\n",
    "\n",
    "Mo_ec_calculator = ElasticConstant(ff_settings=mtp_loaded)\n",
    "Mo_C11, Mo_C12, Mo_C44, _ = Mo_ec_calculator.calculate([Mo])[0]\n",
    "print('Mo', ' C11: ', Mo_C11, 'C12: ', Mo_C12, 'C44: ', Mo_C44)"
   ]
  },
  {
   "cell_type": "markdown",
   "metadata": {},
   "source": [
    "# Energy, force, stress prediction"
   ]
  },
  {
   "cell_type": "code",
   "execution_count": 8,
   "metadata": {
    "scrolled": false
   },
   "outputs": [
    {
     "name": "stderr",
     "output_type": "stream",
     "text": [
      "INFO:maml.apps.pes._lammps:Setting Lammps executable to lmp_intel_cpu_intelmpi\n"
     ]
    },
    {
     "name": "stdout",
     "output_type": "stream",
     "text": [
      "energy: -1022.29786524542\n",
      "forces: \n",
      " [[-1.80669452e-01  5.85713495e-01 -4.91113028e-02]\n",
      " [ 5.85236910e-01 -3.11719268e-01 -7.69291819e-01]\n",
      " [-4.12067711e-01 -2.51957173e-02  5.91975833e-01]\n",
      " [ 2.42062027e-01  4.82595209e-01 -4.24589110e-01]\n",
      " [-6.27320628e-01  9.73562484e-02 -1.52999562e+00]\n",
      " [ 5.23154452e-01  8.67986060e-02 -4.90606686e-01]\n",
      " [-7.71949477e-01  2.23083660e-01  3.56146825e-01]\n",
      " [-6.45754685e-02  1.22682423e-01  7.53082381e-01]\n",
      " [-1.32214890e+00 -4.46277203e-01  1.71445660e-01]\n",
      " [ 8.25921146e-01 -2.73233029e-01 -5.61798594e-01]\n",
      " [ 1.10181604e-01 -3.37781143e-02 -1.08024688e-01]\n",
      " [-8.35590493e-01  1.70547351e-01 -5.10978217e-01]\n",
      " [-6.84868741e-02  5.60219313e-02  5.75852435e-01]\n",
      " [-1.56871284e-01 -5.44826905e-01 -7.16374998e-02]\n",
      " [ 2.49752101e-01 -6.89926238e-01 -1.33197613e+00]\n",
      " [-5.90792743e-01 -5.10505650e-01 -4.97203873e-03]\n",
      " [-1.75215991e-01  2.85600825e-02 -1.54378059e-01]\n",
      " [-2.93483058e-01  1.30907176e-01 -6.35004914e-01]\n",
      " [-1.49449318e-03 -3.61541761e-01  1.24760421e+00]\n",
      " [-4.14244844e-01  7.87497987e-02 -3.49993889e-01]\n",
      " [-7.57910344e-01  5.67886872e-01  5.07793085e-01]\n",
      " [-2.41548463e-01 -1.32638607e-01  1.63125033e-01]\n",
      " [-2.84639777e-01  1.52089820e+00  7.28179440e-01]\n",
      " [ 1.03825501e+00 -3.84448125e-01 -9.65950891e-02]\n",
      " [-1.84981077e-02 -5.73844119e-01  4.93613217e-01]\n",
      " [-2.65706009e-01  4.12643587e-01 -8.09433430e-01]\n",
      " [ 5.67017152e-01 -5.39258562e-01  5.56093053e-01]\n",
      " [-2.59905140e-01 -5.54463822e-01 -1.65896304e-02]\n",
      " [-5.63681716e-01 -8.51781106e-02  5.34241699e-01]\n",
      " [-3.26530573e-01  9.17744531e-01  3.58008354e-01]\n",
      " [-1.51562109e-01  1.16170850e-01  2.10187217e-03]\n",
      " [-2.90208939e-01  3.78468086e-01  6.73477873e-01]\n",
      " [ 1.70659502e-01 -4.02454656e-01 -5.10855781e-01]\n",
      " [-1.31737925e-01  3.26928246e-01  9.49335252e-02]\n",
      " [-2.03296731e-01 -3.44525888e-01  6.30915945e-01]\n",
      " [ 4.80677748e-01  4.12899999e-01 -1.68618689e-01]\n",
      " [-3.86127875e-01 -1.48358000e+00  4.21649422e-01]\n",
      " [ 4.33412935e-01  1.65064913e-01  6.75931231e-01]\n",
      " [-8.33208681e-01  2.04200837e-01  1.28753303e-01]\n",
      " [-6.84585445e-01  2.19707762e-01  6.63952119e-01]\n",
      " [-2.80463020e-01 -1.08755599e-01  2.89520714e-01]\n",
      " [-3.78631275e-01 -4.83497466e-01 -4.57326042e-01]\n",
      " [ 3.87018662e-01  4.57811282e-01 -3.20350517e-02]\n",
      " [ 7.01391914e-01  1.15085055e-01  2.52270575e-01]\n",
      " [ 5.01239365e-01 -8.47996845e-01 -5.08192329e-01]\n",
      " [-3.69453920e-01 -6.41440036e-01 -9.79248017e-02]\n",
      " [-5.91967467e-01 -8.33881556e-02 -6.81264429e-02]\n",
      " [-1.41630098e-01  3.50049495e-01  2.11600566e-02]\n",
      " [ 1.80548826e+00 -7.09471816e-01 -9.30212813e-01]\n",
      " [ 5.35280078e-01  2.56587938e-01  4.22589026e-01]\n",
      " [ 1.06166566e-01  1.90859661e-01 -6.27732916e-01]\n",
      " [ 7.84166463e-01  1.54775945e-02  1.64572783e-01]\n",
      " [-7.79605703e-01  3.06471435e-01  1.48468360e-01]\n",
      " [-1.81184448e-01 -1.69358985e-01  7.02570554e-01]\n",
      " [ 1.81725267e-01  1.86823765e-01 -5.44868283e-01]\n",
      " [-3.80595917e-01 -4.93523172e-01  4.80284146e-01]\n",
      " [ 7.50390640e-01 -9.24885355e-01 -1.24597688e+00]\n",
      " [ 6.23918664e-01 -9.54083300e-02  7.00436583e-01]\n",
      " [-5.24087980e-01  3.11169563e-02  4.23672027e-01]\n",
      " [ 6.65803352e-01  3.07840711e-01 -7.97076561e-01]\n",
      " [ 2.64951954e-01  2.65399110e-01  2.51487628e-01]\n",
      " [-1.21721512e-01 -1.11887219e-01 -7.41893278e-01]\n",
      " [ 2.37679506e-01  4.90145869e-01  9.15504205e-01]\n",
      " [ 6.69025644e-02  2.48795912e-01 -1.28050289e-02]\n",
      " [ 4.76080941e-01  6.05535351e-01  2.90286780e-01]\n",
      " [-5.60393645e-01 -3.98452565e-02  4.36497095e-01]\n",
      " [ 1.61905174e+00  4.68519253e-02 -6.11702676e-01]\n",
      " [ 6.92742335e-01  1.40212635e-01  9.18810917e-01]\n",
      " [-1.44965238e-01  7.46437047e-01 -1.46978158e-02]\n",
      " [ 6.62490539e-01 -2.16492089e-01 -4.34450035e-01]\n",
      " [ 5.15403157e-01  7.87605702e-01 -7.54783231e-01]\n",
      " [-2.52092339e-01  3.17987963e-01 -3.78995456e-01]\n",
      " [ 2.19040041e-01  9.54499343e-01 -4.82679731e-01]\n",
      " [-6.56326686e-01 -9.61285202e-01 -2.53461390e-02]\n",
      " [ 2.52076383e-01 -2.71532105e-01 -7.01312243e-01]\n",
      " [-4.02113762e-01  1.12875856e+00 -1.20252557e-01]\n",
      " [ 6.07009923e-01  1.01788265e-01 -6.92427271e-01]\n",
      " [ 3.98900907e-01  5.25907416e-01 -4.41541892e-01]\n",
      " [-4.65775329e-01 -3.13638598e-01 -7.64703480e-01]\n",
      " [-3.75113952e-01  4.64081952e-01  5.68926569e-02]\n",
      " [ 4.61665698e-01  2.59283144e-02 -1.09814205e-01]\n",
      " [ 4.29067438e-01 -1.04682168e-01  5.50562814e-01]\n",
      " [ 4.13622729e-01  9.46983003e-02 -4.18846806e-01]\n",
      " [-1.76689040e-01  2.48416229e-01 -1.15580150e+00]\n",
      " [-1.13766556e+00 -6.11814196e-01 -2.78450548e-01]\n",
      " [ 7.23315392e-01 -2.79443319e-02  1.17294361e-02]\n",
      " [-4.99077686e-01 -5.58372942e-01  1.32018838e-02]\n",
      " [-8.11030665e-01 -2.70825313e-01  5.52530660e-01]\n",
      " [ 4.85622252e-01  3.79161609e-02  7.22607909e-02]\n",
      " [ 5.42728150e-01  7.93392436e-01 -1.18524399e-01]\n",
      " [-6.51652026e-01  1.06767368e+00 -1.92278848e-01]\n",
      " [ 4.59712267e-01  4.96864366e-01 -6.79794805e-01]\n",
      " [ 1.94189732e-01  6.78749862e-01 -1.10478637e-01]\n",
      " [-4.96436694e-01 -9.47046897e-01  3.21783870e-01]\n",
      " [-5.61738829e-03 -3.64747282e-02  1.04896712e+00]\n",
      " [ 1.88696513e-01  2.54062620e-01  2.02149865e-01]\n",
      " [-6.68428375e-03 -5.07139486e-01 -6.95984430e-01]\n",
      " [-6.98171008e-01  1.52057216e-01 -1.15512402e-01]\n",
      " [-4.52608049e-01  1.20327074e+00  2.70798127e-01]\n",
      " [-6.86760642e-01  9.26987495e-02  9.76159971e-01]\n",
      " [ 3.42409415e-01  1.19347858e-01  8.59432258e-01]\n",
      " [ 3.61123246e-01 -3.12164321e-01 -1.78211475e-01]\n",
      " [ 6.21313653e-01 -3.73115076e-01  1.41645688e-01]\n",
      " [-3.97053356e-01  4.35162255e-01 -3.17039391e-02]\n",
      " [ 3.62917097e-01  5.81952567e-01  9.61932234e-01]\n",
      " [-3.86306747e-01 -3.60937683e-01 -1.59103720e-01]\n",
      " [ 7.42274666e-02  9.53515834e-03  4.07368531e-01]\n",
      " [-6.39933883e-01  7.17419935e-01  7.88035845e-01]\n",
      " [-9.66100786e-01 -2.83324709e-01 -4.15117631e-03]\n",
      " [ 5.87285224e-01 -6.20280836e-01 -1.00681663e-01]\n",
      " [-4.78906814e-01  3.07876083e-01 -2.54188942e-01]\n",
      " [ 4.36122661e-01 -2.33451228e-02 -7.06671038e-01]\n",
      " [-4.31069026e-01  2.53546780e-02  2.12532442e-01]\n",
      " [ 5.07213865e-01  8.04775583e-02 -3.05803962e-01]\n",
      " [-1.63865546e-01  6.28337738e-01 -6.65832986e-02]\n",
      " [-8.62737726e-01  4.37924434e-01  3.03106400e-01]\n",
      " [ 2.36438851e-01 -2.64480061e-01  9.92585501e-02]\n",
      " [-4.12360568e-02  1.85706013e-01 -4.49963929e-01]\n",
      " [ 6.69752784e-02 -2.64986780e-01 -3.96668379e-01]\n",
      " [-2.38008113e-01  8.01574618e-01  1.17836681e-01]\n",
      " [ 7.88010800e-01  8.93621844e-01 -5.39583437e-02]\n",
      " [ 3.76131456e-01 -7.80405152e-02  5.69495963e-01]\n",
      " [ 8.09247907e-01  9.89050849e-01  5.22264350e-01]\n",
      " [-9.44308165e-01  5.57670316e-01  2.34474687e-01]\n",
      " [-1.23117160e-01  4.65466772e-02 -1.34624308e+00]\n",
      " [-1.01027442e+00 -4.35133060e-01  8.51083321e-02]\n",
      " [-1.65881864e-01 -4.36278695e-02  3.63609292e-01]\n",
      " [-6.98990881e-02 -1.94293850e+00  2.59994146e-01]\n",
      " [-8.24041016e-01 -1.04212911e+00 -1.13699690e+00]\n",
      " [-5.98782365e-02 -1.26088206e+00  1.15340719e+00]\n",
      " [-2.53969576e-01 -9.53156764e-01  1.65311014e-01]\n",
      " [ 8.19258191e-01 -4.03989767e-01 -1.57859241e-01]\n",
      " [ 6.07278826e-01 -2.82811181e-01  3.11793385e-01]\n",
      " [ 6.07157870e-01 -3.11406062e-01  6.19354346e-01]\n",
      " [ 6.36910343e-03  1.26805737e-01 -2.49304649e-01]\n",
      " [ 3.41414074e-01  6.08258161e-02 -1.94178961e-01]\n",
      " [ 1.30289859e-01 -6.54165054e-01 -5.75556783e-01]\n",
      " [ 5.81013395e-01 -2.59139057e-01  1.27323706e-01]\n",
      " [-9.92375594e-01 -1.37107597e-02 -2.19891459e-01]\n",
      " [ 2.64569203e-01  4.24858822e-01 -4.47253050e-01]\n",
      " [ 3.09539059e-01 -1.63559290e-01  1.81473220e-02]\n",
      " [ 1.33241167e-01 -7.72785987e-02  5.17244416e-01]\n",
      " [ 4.65813961e-01 -5.58169482e-01  3.86293456e-01]\n",
      " [ 5.76298082e-01 -7.06651086e-01  9.42966627e-01]]\n",
      "stresses:  [ 3.49187434e+02  3.56055204e+02  3.56319108e+02  1.01992649e-01\n",
      "  4.70371990e-02 -1.91829821e-01]\n"
     ]
    }
   ],
   "source": [
    "from maml.apps.pes import EnergyForceStress\n",
    "\n",
    "efs_calculator = EnergyForceStress(ff_settings=mtp_loaded)\n",
    "energy, forces, stresses = efs_calculator.calculate([train_structures[0]])[0]\n",
    "\n",
    "print('energy: {}'.format(energy))\n",
    "print('forces: \\n', forces)\n",
    "print('stresses: ', stresses)"
   ]
  }
 ],
 "metadata": {
  "kernelspec": {
   "display_name": "Python 3",
   "language": "python",
   "name": "python3"
  },
  "language_info": {
   "codemirror_mode": {
    "name": "ipython",
    "version": 3
   },
   "file_extension": ".py",
   "mimetype": "text/x-python",
   "name": "python",
   "nbconvert_exporter": "python",
   "pygments_lexer": "ipython3",
   "version": "3.8.5"
  }
 },
 "nbformat": 4,
 "nbformat_minor": 2
}
